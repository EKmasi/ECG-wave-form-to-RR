{
 "cells": [
  {
   "cell_type": "code",
   "execution_count": 1,
   "metadata": {},
   "outputs": [],
   "source": [
    "import heartpy as hp\n"
   ]
  },
  {
   "cell_type": "code",
   "execution_count": 2,
   "metadata": {},
   "outputs": [],
   "source": [
    "datetime_data = hp.get_data('#1_2017_08_30-10_46_36_ECG-1.csv', column_name='datetime')\n"
   ]
  },
  {
   "cell_type": "code",
   "execution_count": 3,
   "metadata": {},
   "outputs": [
    {
     "name": "stdout",
     "output_type": "stream",
     "text": [
      "250.00666666666666\n"
     ]
    }
   ],
   "source": [
    "fs = hp.get_samplerate_datetime(datetime_data, timeformat='%d/%m/%Y %H:%M:%S.%f')\n",
    "print(fs)"
   ]
  },
  {
   "cell_type": "code",
   "execution_count": 4,
   "metadata": {},
   "outputs": [],
   "source": [
    "hrdata = hp.get_data('#1_2017_08_30-10_46_36_ECG-1.csv', column_name='hr')"
   ]
  },
  {
   "cell_type": "code",
   "execution_count": 5,
   "metadata": {},
   "outputs": [],
   "source": [
    "# regular ECG\n",
    "hrdata1 = hrdata[55112:56702]"
   ]
  },
  {
   "cell_type": "code",
   "execution_count": 6,
   "metadata": {},
   "outputs": [],
   "source": [
    "hrdata1 = 0.00625*(hrdata1 -2048) ;"
   ]
  },
  {
   "cell_type": "code",
   "execution_count": 7,
   "metadata": {},
   "outputs": [
    {
     "data": {
      "image/png": "[encoded data removed]",
      "text/plain": [
       "<Figure size 432x288 with 1 Axes>"
      ]
     },
     "metadata": {
      "needs_background": "light"
     },
     "output_type": "display_data"
    }
   ],
   "source": [
    "working_data, measures = hp.process(hrdata1, fs)\n",
    "hp.plotter(working_data, measures)"
   ]
  },
  {
   "cell_type": "code",
   "execution_count": 8,
   "metadata": {},
   "outputs": [
    {
     "data": {
      "text/plain": [
       "{'hr': array([-0.31875, -0.30625, -0.3    , ..., -0.4    , -0.4    , -0.4    ]),\n",
       " 'peaklist': array([  91,  204,  334,  459,  580,  687,  856,  989, 1123, 1273, 1374,\n",
       "        1511], dtype=int64),\n",
       " 'ybeat': array([0.15625, 0.175  , 0.1375 , 0.16875, 0.16875, 0.23125, 0.1875 ,\n",
       "        0.0875 , 0.11875, 0.125  , 0.175  , 0.1375 ]),\n",
       " 'rolling_mean': array([-0.47680776, -0.47680776, -0.47680776, ..., -0.47680776,\n",
       "        -0.47680776, -0.47680776]),\n",
       " 'RR_list': array([451.98794699, 519.9861337 , 499.98666702, 483.98709368,\n",
       "        427.98858697, 675.98197381, 531.98581371, 535.98570705,\n",
       "        599.98400043, 403.98922695, 547.98538706]),\n",
       " 'RR_indices': [(91, 204),\n",
       "  (204, 334),\n",
       "  (334, 459),\n",
       "  (459, 580),\n",
       "  (580, 687),\n",
       "  (687, 856),\n",
       "  (856, 989),\n",
       "  (989, 1123),\n",
       "  (1123, 1273),\n",
       "  (1273, 1374),\n",
       "  (1374, 1511)],\n",
       " 'RR_diff': masked_array(data=[67.99818671502106, 19.999466680888645,\n",
       "                    15.999573344710768, 55.99850670648783,\n",
       "                    247.99338684301756, 143.9961601023973,\n",
       "                    3.9998933361777063, 63.9982933788433,\n",
       "                    195.9947734727075, 143.9961601023973],\n",
       "              mask=[False, False, False, False, False, False, False, False,\n",
       "                    False, False],\n",
       "        fill_value=1e+20),\n",
       " 'RR_sqdiff': masked_array(data=[4.62375340e+03, 3.99978668e+02, 2.55986347e+02,\n",
       "                    3.13583275e+03, 6.15007199e+04, 2.07348941e+04,\n",
       "                    1.59991467e+01, 4.09578156e+03, 3.84139512e+04,\n",
       "                    2.07348941e+04],\n",
       "              mask=False,\n",
       "        fill_value=1e+20),\n",
       " 'rrsd': 73.86187650350816,\n",
       " 'best': 20,\n",
       " 'removed_beats': array([], dtype=int64),\n",
       " 'removed_beats_y': array([], dtype=float64),\n",
       " 'binary_peaklist': array([1, 1, 1, 1, 1, 1, 1, 1, 1, 1, 1, 1]),\n",
       " 'RR_masklist': [0, 0, 0, 0, 0, 0, 0, 0, 0, 0, 0],\n",
       " 'RR_list_cor': [451.9879469880803,\n",
       "  519.9861337031014,\n",
       "  499.9866670222127,\n",
       "  483.98709367750195,\n",
       "  427.9885869710141,\n",
       "  675.9819738140317,\n",
       "  531.9858137116344,\n",
       "  535.9857070478121,\n",
       "  599.9840004266554,\n",
       "  403.9892269539479,\n",
       "  547.9853870563452],\n",
       " 'nn20': masked_array(data=[67.99818671502106, 55.99850670648783,\n",
       "                    247.99338684301756, 143.9961601023973,\n",
       "                    63.9982933788433, 195.9947734727075, 143.9961601023973],\n",
       "              mask=[False, False, False, False, False, False, False],\n",
       "        fill_value=1e+20),\n",
       " 'nn50': masked_array(data=[67.99818671502106, 55.99850670648783,\n",
       "                    247.99338684301756, 143.9961601023973,\n",
       "                    63.9982933788433, 195.9947734727075, 143.9961601023973],\n",
       "              mask=[False, False, False, False, False, False, False],\n",
       "        fill_value=1e+20),\n",
       " 'poincare': {'x_plus': array([451.98794699, 519.9861337 , 499.98666702, 483.98709368,\n",
       "         427.98858697, 675.98197381, 531.98581371, 535.98570705,\n",
       "         599.98400043, 403.98922695]),\n",
       "  'x_minus': array([519.9861337 , 499.98666702, 483.98709368, 427.98858697,\n",
       "         675.98197381, 531.98581371, 535.98570705, 599.98400043,\n",
       "         403.98922695, 547.98538706]),\n",
       "  'x_one': array([ -48.08197893,   14.14175851,   11.31340681,   39.59692383,\n",
       "         -175.35780553,  101.82066127,   -2.8283517 ,  -45.25362723,\n",
       "          138.5892334 , -101.82066127]),\n",
       "  'x_two': array([687.28946359, 721.22968402, 695.7745187 , 644.86418806,\n",
       "         780.62506976, 854.16221401, 755.16990444, 803.25188338,\n",
       "         709.91627721, 673.14770508])},\n",
       " 'breathing_signal': array([452.02575635, 452.3234747 , 452.62038353, ..., 545.84813131,\n",
       "        546.89157555, 547.93869654]),\n",
       " 'breathing_psd': array([6.55824307e+02, 3.30833496e+02, 7.64381295e+02, ...,\n",
       "        7.25707189e-05, 7.25705847e-05, 7.25704963e-05]),\n",
       " 'breathing_frq': array([1.76397954e-01, 3.52795908e-01, 5.29193861e-01, ...,\n",
       "        4.99382607e+02, 4.99559005e+02, 4.99735403e+02])}"
      ]
     },
     "execution_count": 8,
     "metadata": {},
     "output_type": "execute_result"
    }
   ],
   "source": [
    "working_data"
   ]
  },
  {
   "cell_type": "code",
   "execution_count": 9,
   "metadata": {},
   "outputs": [
    {
     "data": {
      "text/plain": [
       "[451.9879469880803,\n",
       " 519.9861337031014,\n",
       " 499.9866670222127,\n",
       " 483.98709367750195,\n",
       " 427.9885869710141,\n",
       " 675.9819738140317,\n",
       " 531.9858137116344,\n",
       " 535.9857070478121,\n",
       " 599.9840004266554,\n",
       " 403.9892269539479,\n",
       " 547.9853870563452]"
      ]
     },
     "execution_count": 9,
     "metadata": {},
     "output_type": "execute_result"
    }
   ],
   "source": [
    "working_data['RR_list_cor']"
   ]
  },
  {
   "cell_type": "code",
   "execution_count": 10,
   "metadata": {},
   "outputs": [
    {
     "data": {
      "text/plain": [
       "{'bpm': 116.20028169014087,\n",
       " 'ibi': 516.3498670338487,\n",
       " 'sdnn': 73.86187650350816,\n",
       " 'sdsd': 78.58543520594851,\n",
       " 'rmssd': 124.06119105573846,\n",
       " 'pnn20': 0.7,\n",
       " 'pnn50': 0.7,\n",
       " 'hr_mad': 35.99904002559941,\n",
       " 'sd1': 87.4614887855559,\n",
       " 'sd2': 61.53858971473979,\n",
       " 's': 16908.858027447346,\n",
       " 'sd1/sd2': 1.4212462325019293,\n",
       " 'breathingrate': 0.5291938613512083}"
      ]
     },
     "execution_count": 10,
     "metadata": {},
     "output_type": "execute_result"
    }
   ],
   "source": [
    "measures"
   ]
  },
  {
   "cell_type": "code",
   "execution_count": null,
   "metadata": {},
   "outputs": [],
   "source": []
  }
 ],
 "metadata": {
  "kernelspec": {
   "display_name": "Python 3",
   "language": "python",
   "name": "python3"
  },
  "language_info": {
   "codemirror_mode": {
    "name": "ipython",
    "version": 3
   },
   "file_extension": ".py",
   "mimetype": "text/x-python",
   "name": "python",
   "nbconvert_exporter": "python",
   "pygments_lexer": "ipython3",
   "version": "3.6.8"
  }
 },
 "nbformat": 4,
 "nbformat_minor": 2
}
